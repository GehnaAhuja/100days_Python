{
 "cells": [
  {
   "cell_type": "markdown",
   "id": "3b55167c-8730-4b52-b10f-f3c112b79a90",
   "metadata": {},
   "source": [
    "# Day 1"
   ]
  },
  {
   "cell_type": "markdown",
   "id": "8033e5be-412c-4dd0-b9e9-f182d8fde027",
   "metadata": {},
   "source": [
    "## Shift Values of the variable"
   ]
  },
  {
   "cell_type": "code",
   "execution_count": 2,
   "id": "0bd808bd-ef2b-4123-9fab-062f9c6480f9",
   "metadata": {},
   "outputs": [
    {
     "name": "stdin",
     "output_type": "stream",
     "text": [
      " 10\n",
      " 20\n"
     ]
    },
    {
     "name": "stdout",
     "output_type": "stream",
     "text": [
      "a: 20\n",
      "b: 10\n"
     ]
    }
   ],
   "source": [
    "# There are two variables, a and b from the input\n",
    "a = input()\n",
    "b = input()\n",
    "\n",
    "c = b\n",
    "b = a\n",
    "a = c\n",
    "\n",
    "print(\"a: \" + a)\n",
    "print(\"b: \" + b)"
   ]
  },
  {
   "cell_type": "markdown",
   "id": "216dacdb-2ffc-4124-9ccc-84cead872000",
   "metadata": {},
   "source": [
    "## Band Name Generator"
   ]
  },
  {
   "cell_type": "markdown",
   "id": "52bc9ef2-164d-4b23-8f4e-e13a0c44e1d2",
   "metadata": {},
   "source": [
    "<b> Input </b>: City you were born in and your pet's name.<br>\n",
    "<b> Output </b>: Word that is the combination of the input."
   ]
  },
  {
   "cell_type": "code",
   "execution_count": 4,
   "id": "0b140c0b-b6d9-479d-876f-29f22e9b715b",
   "metadata": {},
   "outputs": [
    {
     "name": "stdout",
     "output_type": "stream",
     "text": [
      "Welcome to Band Name Generator\n"
     ]
    },
    {
     "name": "stdin",
     "output_type": "stream",
     "text": [
      "What's the name of the city you grew up in?\n",
      " Mumbai\n",
      "What's your pet's name?\n",
      " Asmodious\n"
     ]
    },
    {
     "name": "stdout",
     "output_type": "stream",
     "text": [
      "Your Band name could be Mumbai Asmodious\n"
     ]
    }
   ],
   "source": [
    "print(\"Welcome to Band Name Generator\")\n",
    "\n",
    "birth_city = input(\"What\\'s the name of the city you grew up in?\\n\") # name of the city user was born in.\n",
    "pet_name = input(\"What\\'s your pet\\'s name?\\n\") # name of the pet user ever had.\n",
    "\n",
    "print(\"Your Band name could be \" + birth_city+\" \"+pet_name)"
   ]
  }
 ],
 "metadata": {
  "kernelspec": {
   "display_name": "100_py",
   "language": "python",
   "name": "100_py"
  },
  "language_info": {
   "codemirror_mode": {
    "name": "ipython",
    "version": 3
   },
   "file_extension": ".py",
   "mimetype": "text/x-python",
   "name": "python",
   "nbconvert_exporter": "python",
   "pygments_lexer": "ipython3",
   "version": "3.11.5"
  }
 },
 "nbformat": 4,
 "nbformat_minor": 5
}
