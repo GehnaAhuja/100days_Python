{
 "cells": [
  {
   "cell_type": "markdown",
   "id": "486fa4dd-5bfb-4075-8d67-ddbc71894494",
   "metadata": {},
   "source": [
    "# Day 2"
   ]
  },
  {
   "cell_type": "markdown",
   "id": "66d51b77-68d8-45d2-9437-309a1fc037cf",
   "metadata": {},
   "source": [
    "## BMI Calculator"
   ]
  },
  {
   "cell_type": "code",
   "execution_count": null,
   "id": "e310ef36-c1d1-426b-9b7b-592eeac50208",
   "metadata": {},
   "outputs": [],
   "source": [
    "# 1st input: enter height in meters e.g: 1.65\n",
    "height = input()\n",
    "# 2nd input: enter weight in kilograms e.g: 72\n",
    "weight = input()\n",
    "\n",
    "float_height = float(height)\n",
    "bmi = int(weight) / (float_height* float_height)\n",
    "print(int(bmi))"
   ]
  },
  {
   "cell_type": "markdown",
   "id": "b7d7f15d-f0bc-4f56-ad09-9ea9fd1a191d",
   "metadata": {},
   "source": [
    "## Bill Splitor"
   ]
  },
  {
   "cell_type": "code",
   "execution_count": 1,
   "id": "9b506462-d84c-4e35-b800-e0e38c10da75",
   "metadata": {},
   "outputs": [
    {
     "name": "stdout",
     "output_type": "stream",
     "text": [
      "Welcome to the tip calculator.\n"
     ]
    },
    {
     "name": "stdin",
     "output_type": "stream",
     "text": [
      "What was the total bill? $ 100\n",
      "What percentage tip would you like to give? 10,12 or 15? 12\n",
      "How many people to split the bill?  7\n"
     ]
    },
    {
     "name": "stdout",
     "output_type": "stream",
     "text": [
      "Each person should pay $16.00\n"
     ]
    }
   ],
   "source": [
    "print('Welcome to the tip calculator.')\n",
    "\n",
    "bill = float(input(\"What was the total bill? $\"))\n",
    "tip_percent = input(\"What percentage tip would you like to give? 10,12 or 15?\")\n",
    "total_people = input(\"How many people to split the bill? \")\n",
    "\n",
    "#Calculating the total bill.\n",
    "total_bill = (bill +(bill*int(tip_percent))/100)\n",
    "# Calculating the per-person bill.\n",
    "# Rounding the answer to two decimal places.\n",
    "each_person = round(total_bill/int(total_people),2) \n",
    "# To always get the answer with two decimal places.\n",
    "each_person = \"{:.2f}\".format(each_person)\n",
    "\n",
    "print(f\"Each person should pay ${each_person}\")"
   ]
  },
  {
   "cell_type": "code",
   "execution_count": null,
   "id": "72d4296f-2f04-4770-a7ab-cd3716827f95",
   "metadata": {},
   "outputs": [],
   "source": []
  }
 ],
 "metadata": {
  "kernelspec": {
   "display_name": "100_py",
   "language": "python",
   "name": "100_py"
  },
  "language_info": {
   "codemirror_mode": {
    "name": "ipython",
    "version": 3
   },
   "file_extension": ".py",
   "mimetype": "text/x-python",
   "name": "python",
   "nbconvert_exporter": "python",
   "pygments_lexer": "ipython3",
   "version": "3.11.5"
  }
 },
 "nbformat": 4,
 "nbformat_minor": 5
}
