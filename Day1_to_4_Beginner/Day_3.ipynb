{
 "cells": [
  {
   "cell_type": "markdown",
   "id": "365f13a5-baa0-4391-bc39-ca9149d3735e",
   "metadata": {},
   "source": [
    "# Day 3"
   ]
  },
  {
   "cell_type": "markdown",
   "id": "a53aeca5-9f86-4393-b32b-44453dfa0c4b",
   "metadata": {},
   "source": [
    "## BMI 2.0"
   ]
  },
  {
   "cell_type": "code",
   "execution_count": null,
   "id": "0e9fa899-f366-4431-a615-7c5028652acb",
   "metadata": {},
   "outputs": [],
   "source": [
    "# Enter your height in meters e.g., 1.55\n",
    "height = float(input())\n",
    "# Enter your weight in kilograms e.g., 72\n",
    "weight = int(input())\n",
    "\n",
    "bmi = weight/height ** 2\n",
    "if bmi < 18.5:\n",
    "  print(f\"Your BMI is {bmi}, you are underweight.\")\n",
    "elif bmi < 25:\n",
    "  print(f\"Your BMI is {bmi}, you have a normal weight.\")\n",
    "elif bmi < 30:\n",
    "  print(f\"Your BMI is {bmi}, you are slightly overweight.\")\n",
    "elif bmi < 35:\n",
    "  print(f\"Your BMI is {bmi}, you are obese.\")\n",
    "elif 35 < bmi:\n",
    "  print(f\"Your BMI is {bmi}, you are clinically obese.\")\n",
    "else:\n",
    "  print(\"Please enter the correct height and weight values!\")"
   ]
  },
  {
   "cell_type": "markdown",
   "id": "8b139139-e802-48ef-9647-f43c8167857d",
   "metadata": {},
   "source": [
    "## Leap Year"
   ]
  },
  {
   "cell_type": "code",
   "execution_count": 14,
   "id": "4e94e73e-4569-40d2-a328-17f8603cc9da",
   "metadata": {},
   "outputs": [
    {
     "name": "stdin",
     "output_type": "stream",
     "text": [
      " 1999\n"
     ]
    },
    {
     "name": "stdout",
     "output_type": "stream",
     "text": [
      "Not leap year\n"
     ]
    }
   ],
   "source": [
    "# Which year do you want to check?\n",
    "year = int(input())\n",
    "\n",
    "if year % 4 == 0:\n",
    "  if year % 100 != 0 or year % 400 == 0:\n",
    "    print(\"Leap year\")\n",
    "  elif year % 100 == 0 or year % 400 != 0 :\n",
    "    print(\"Not leap year\")\n",
    "else:\n",
    "  print(\"Not leap year\")"
   ]
  },
  {
   "cell_type": "markdown",
   "id": "480d2537-d92d-4d2e-b842-90983edfdbdc",
   "metadata": {},
   "source": [
    "## Pizza Order"
   ]
  },
  {
   "cell_type": "code",
   "execution_count": 17,
   "id": "b29af643-2cfe-4142-98ff-6ccf9ba997bb",
   "metadata": {},
   "outputs": [
    {
     "name": "stdout",
     "output_type": "stream",
     "text": [
      "Thank you for choosing Python Pizza Deliveries!\n"
     ]
    },
    {
     "name": "stdin",
     "output_type": "stream",
     "text": [
      " M\n",
      " Y\n",
      " Y\n"
     ]
    },
    {
     "name": "stdout",
     "output_type": "stream",
     "text": [
      "Your final bill is: $24.\n"
     ]
    }
   ],
   "source": [
    "print(\"Thank you for choosing Python Pizza Deliveries!\")\n",
    "size = input() # What size pizza do you want? S, M, or L\n",
    "add_pepperoni = input() # Do you want pepperoni? Y or N\n",
    "extra_cheese = input() # Do you want extra cheese? Y or N\n",
    "\n",
    "if size == \"S\":\n",
    "    bill = 15\n",
    "elif size == \"M\":\n",
    "    bill = 20\n",
    "else:\n",
    "    bill = 25\n",
    "\n",
    "if add_pepperoni == \"Y\":\n",
    "    if size == \"S\":\n",
    "        bill += 2\n",
    "    else:\n",
    "        bill += 3\n",
    "\n",
    "if extra_cheese == \"Y\":\n",
    "  bill += 1\n",
    "\n",
    "print(f\"Your final bill is: ${bill}.\")"
   ]
  },
  {
   "cell_type": "markdown",
   "id": "278cd040-51c2-4e14-9e57-1cf1036e33e0",
   "metadata": {},
   "source": [
    "## Love Calculator"
   ]
  },
  {
   "cell_type": "code",
   "execution_count": 12,
   "id": "a7bfd558-4809-4b65-bee3-77efef1281eb",
   "metadata": {},
   "outputs": [
    {
     "name": "stdout",
     "output_type": "stream",
     "text": [
      "The Love Calculator is calculating your score...\n"
     ]
    },
    {
     "name": "stdin",
     "output_type": "stream",
     "text": [
      " Gehna Ahuja\n",
      " Sharukh Khan\n"
     ]
    },
    {
     "name": "stdout",
     "output_type": "stream",
     "text": [
      "Your score is 41, you are alright together.\n"
     ]
    }
   ],
   "source": [
    "print(\"The Love Calculator is calculating your score...\")\n",
    "name1 = input() # What is your name?\n",
    "name2 = input() # What is their name?\n",
    "\n",
    "name = name1 + name2\n",
    "name = name.lower()\n",
    "true = \"true\"\n",
    "love = \"love\"\n",
    "count_true = 0\n",
    "count_love = 0\n",
    "for i in true:\n",
    "  name_count1 = name.count(i)\n",
    "  count_true += name_count1\n",
    "for j in love:\n",
    "  name_count2 = name.count(j)\n",
    "  count_love += name_count2\n",
    "\n",
    "true_love = int(str(count_true)+str(count_love))\n",
    "\n",
    "if true_love < 10 or true_love > 90:\n",
    "  print(f\"Your score is {true_love}, you go together like coke and mentos.\")\n",
    "elif 40<= true_love <= 50:\n",
    "  print(f\"Your score is {true_love}, you are alright together.\")\n",
    "else:\n",
    "  print(f\"Your score is {true_love}.\")"
   ]
  },
  {
   "cell_type": "markdown",
   "id": "7d6e78b1-19a5-4270-b092-fc16320413de",
   "metadata": {},
   "source": [
    "## Treasure Hunt game"
   ]
  },
  {
   "cell_type": "code",
   "execution_count": 9,
   "id": "e7f064a6-0f0d-4daf-839d-5cc619c4ad48",
   "metadata": {},
   "outputs": [
    {
     "name": "stdout",
     "output_type": "stream",
     "text": [
      "Welcome to Treasure Island. Your mission is to find treasure! \n"
     ]
    },
    {
     "name": "stdin",
     "output_type": "stream",
     "text": [
      "Choose a direction in which you want to go: Left or Right \n",
      " l\n",
      "You have reached the end of the land..To reach the island do you want to wait for the boat or swim to the island? \n",
      " w\n",
      "You have reached the island!! You see see a tunnel which has three paths, each closed with a different color gate. Choose one gate Red, Blue or Green \n",
      " g\n"
     ]
    },
    {
     "name": "stdout",
     "output_type": "stream",
     "text": [
      "OMG!! A Dinosaur ate you!! \n",
      " GAME OVER \n",
      " Play again to win!!\n"
     ]
    }
   ],
   "source": [
    "print(\"Welcome to Treasure Island. Your mission is to find treasure! \")\n",
    "\n",
    "direction = input(\"Choose a direction in which you want to go: Left or Right \\n\").lower() #choose a direction\n",
    "if direction in [\"right\", \"r\"]:\n",
    "    print(\"Oh noo!! you went into the woods and a bear ate you! \\n GAME OVER \\n Play again to win!!\")\n",
    "elif direction in [\"left\", \"l\"]:\n",
    "    cross_river = input('You have reached the end of the land..To reach the island do you want to \"wait\" for the boat or \"swim\" to the island? \\n').lower()\n",
    "    if cross_river in [\"swim\", \"s\", \"swim to the island\"]:\n",
    "        print(\"You swam very quickly and were going to reach the island but a Megslodon ate you!! \\n GAME OVER \\n Play again to win the treasure!!\")\n",
    "    elif cross_river in [\"wait\", \"w\", \"wait for the boat\"]:\n",
    "        gate = input(\"You have reached the island!! You see see a tunnel which has three paths, each closed with a different color gate. Choose one gate Red, Blue or Green \\n\").lower()\n",
    "        if gate in [\"red\", \"r\"]:\n",
    "            print(\"You got burnt as the whole path was on fire!!! \\nGAME OVER \\nPlay again to win!!\")\n",
    "        elif gate in [\"green\", \"g\"]:\n",
    "            print(\"OMG!! A Dinosaur ate you!! \\nGAME OVER \\nPlay again to win!!\")\n",
    "        elif gate in [\"blue\", \"b\"]:\n",
    "            print(\"Yay!!! You found the Treasure!! \\nAdbhoot 1 crore jeet gaye aap!! \\nWinner Winner Chicken Diner!!\")\n",
    "        else:\n",
    "            print(\"Entered undefined value...GAME OVER!!PLAY AGAIN!!\")\n",
    "    else:\n",
    "        print(\"Entered undefined value...GAME OVER!!PLAY AGAIN!!\")\n",
    "else:\n",
    "    print(\"Entered undefined value...GAME OVER!!PLAY AGAIN!!\")"
   ]
  },
  {
   "cell_type": "code",
   "execution_count": null,
   "id": "83010d04-846d-4cc9-9915-1c87ad51d5e0",
   "metadata": {},
   "outputs": [],
   "source": []
  }
 ],
 "metadata": {
  "kernelspec": {
   "display_name": "100_py",
   "language": "python",
   "name": "100_py"
  },
  "language_info": {
   "codemirror_mode": {
    "name": "ipython",
    "version": 3
   },
   "file_extension": ".py",
   "mimetype": "text/x-python",
   "name": "python",
   "nbconvert_exporter": "python",
   "pygments_lexer": "ipython3",
   "version": "3.11.5"
  }
 },
 "nbformat": 4,
 "nbformat_minor": 5
}
