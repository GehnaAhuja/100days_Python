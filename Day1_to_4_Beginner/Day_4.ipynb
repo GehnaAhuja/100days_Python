{
 "cells": [
  {
   "cell_type": "markdown",
   "id": "b86fde0b-406d-46d1-87e6-e254540d7eb5",
   "metadata": {},
   "source": [
    "# Day 4"
   ]
  },
  {
   "cell_type": "markdown",
   "id": "55a7a57e-ffd2-4d18-aaf4-849899efa102",
   "metadata": {},
   "source": [
    "## Rock Paper Scissor"
   ]
  },
  {
   "cell_type": "code",
   "execution_count": 13,
   "id": "e56b06f2-dee1-48ad-b090-dc16de59e2f3",
   "metadata": {},
   "outputs": [
    {
     "name": "stdin",
     "output_type": "stream",
     "text": [
      "what do you choose? Type 0 for Rock, 1 for Paper, and 2 for Scissor \n",
      " 1\n"
     ]
    },
    {
     "name": "stdout",
     "output_type": "stream",
     "text": [
      "You chose:\n",
      "\n",
      "     _______\n",
      "---'    ____)____\n",
      "           ______)\n",
      "          _______)\n",
      "         _______)\n",
      "---.__________)\n",
      "\n",
      "Computer chose:\n",
      "\n",
      "       ,--.--._\n",
      "------\" _, \\___)\n",
      "        / _/____)\n",
      "        \\//(____)\n",
      "------\\     (__)\n",
      "       `-----\"\n",
      "\n",
      "You Won!! :(\n"
     ]
    }
   ],
   "source": [
    "import random\n",
    "\n",
    "rock = '''\n",
    "       ,--.--._\n",
    "------\" _, \\___)\n",
    "        / _/____)\n",
    "        \\//(____)\n",
    "------\\     (__)\n",
    "       `-----\"\n",
    "'''\n",
    "\n",
    "paper = '''\n",
    "     _______\n",
    "---'    ____)____\n",
    "           ______)\n",
    "          _______)\n",
    "         _______)\n",
    "---.__________)\n",
    "'''\n",
    "\n",
    "scissor = '''\n",
    "    _______\n",
    "---'   ____)____\n",
    "          ______)\n",
    "       __________)\n",
    "      (____)\n",
    "---.__(___)\n",
    "'''\n",
    "\n",
    "user_choice = int(input(\"what do you choose? Type 0 for Rock, 1 for Paper, and 2 for Scissor \\n\"))\n",
    "rand_int = random.randint(0,2)\n",
    "game = [rock, paper, scissor]\n",
    "\n",
    "# As the user might put a number that is not in our list, I am using try and except you can use if and else to tackle this issue as a beginner.\n",
    "try:\n",
    "    print(f\"You chose:\\n{game[user_choice]}\")\n",
    "    print(f\"Computer chose:\\n{game[rand_int]}\")\n",
    "except:\n",
    "    print(\"Invalid Number...You Lose!!\")\n",
    "\n",
    "# check is the user won, lost or was it a draw.\n",
    "if user_choice == rand_int:\n",
    "    print(\"It's a draw!\")\n",
    "elif (user_choice == 0 and rand_int == 1) or (user_choice == 1 and rand_int == 2) or (user_choice == 2 and rand_int == 0):\n",
    "    print(\"You Lost!! :p\")\n",
    "elif user_choice not in range(3):\n",
    "    print(\"Please put the valid number next time!!\")\n",
    "else:\n",
    "    print(\"You Won!! :(\")"
   ]
  },
  {
   "cell_type": "code",
   "execution_count": null,
   "id": "1fbd8e63-6ab8-4128-b157-26e753d1a5e3",
   "metadata": {},
   "outputs": [],
   "source": []
  }
 ],
 "metadata": {
  "kernelspec": {
   "display_name": "100_py",
   "language": "python",
   "name": "100_py"
  },
  "language_info": {
   "codemirror_mode": {
    "name": "ipython",
    "version": 3
   },
   "file_extension": ".py",
   "mimetype": "text/x-python",
   "name": "python",
   "nbconvert_exporter": "python",
   "pygments_lexer": "ipython3",
   "version": "3.11.5"
  }
 },
 "nbformat": 4,
 "nbformat_minor": 5
}
